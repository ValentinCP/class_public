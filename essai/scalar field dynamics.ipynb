{
 "cells": [
  {
   "cell_type": "code",
   "execution_count": 1,
   "metadata": {},
   "outputs": [],
   "source": [
    "import numpy as np\n",
    "from matplotlib import pyplot as plt\n",
    "from scipy.integrate import solve_ivp\n",
    "\n",
    "from math import*"
   ]
  },
  {
   "attachments": {},
   "cell_type": "markdown",
   "metadata": {},
   "source": [
    "Potential"
   ]
  },
  {
   "cell_type": "code",
   "execution_count": 2,
   "metadata": {},
   "outputs": [],
   "source": [
    "def V_harmonic(phi,m2):\n",
    "    return(0.5*m2*phi*phi)\n",
    "\n",
    "def dV_harmonic(phi,m2):\n",
    "    return(m2*phi)\n",
    "\n",
    "def ddV_harmonic(phi,m2):\n",
    "    return(m2)"
   ]
  },
  {
   "cell_type": "code",
   "execution_count": 3,
   "metadata": {},
   "outputs": [],
   "source": [
    "from math import pi\n",
    "csteGrav = 6.6743015e-11\n",
    "M_pl = 1/np.sqrt(8*pi*csteGrav)\n",
    "# Units #Internally, the code uses almost everywhere units of Mpc to some power, excepted in the inflation module, where many quantities are in natural units (wrt the true Planck mass).\n",
    "\n",
    "\n",
    "def V_brane(phi,M4,mu,n):\n",
    "    return(M4/(1+np.power(mu/phi,n)))\n",
    "\n",
    "def V_brane_shift(phi,phi0,M4,mu,n):\n",
    "    return(V_brane(phi0-phi,M4,mu,n))\n",
    "\n",
    "def dV_brane(phi,M4,mu,n):\n",
    "    factor = M4*n*np.power(mu,n)\n",
    "    denom = np.power(phi,n)+np.power(mu,n)\n",
    "    return(factor*np.power(phi,n-1)/np.power(denom,2))\n",
    "\n",
    "def dV_brane_shift(phi,phi0,M4,mu,n):\n",
    "    return(-dV_brane(phi0-phi,M4,mu,n))\n",
    "\n",
    "def ddV_brane(phi,M4,mu,n):\n",
    "    factor = M4*n*pow(mu,n)\n",
    "    factor2 = (n-1)*np.power(mu,n)-(n+1)*np.power(phi,n)\n",
    "    denom = np.power(mu,n)+np.power(phi,n)\n",
    "    return(factor*factor2/np.power(denom,3))\n",
    "\n",
    "def ddV_brane_shift(phi,phi0,M4,mu,n):\n",
    "    return(ddV_brane(phi0-phi,M4,mu,n))"
   ]
  },
  {
   "cell_type": "code",
   "execution_count": 4,
   "metadata": {},
   "outputs": [],
   "source": [
    "def epsilon1_true(phi,M4,mu,n):\n",
    "    factor = 0.5*pow(M_pl,2)\n",
    "    return(factor*pow(dV_brane(phi,M4,mu,n)/V_brane(phi,M4,mu,n),2)  )\n",
    "\n",
    "def epsilon1_true_shift(phi,phi0,M4,mu,n):\n",
    "    return(epsilon1_true(phi0-phi,M4,mu,n))"
   ]
  },
  {
   "attachments": {},
   "cell_type": "markdown",
   "metadata": {},
   "source": [
    "Friedmann Equation and Klein-Gordon equation"
   ]
  },
  {
   "cell_type": "code",
   "execution_count": 5,
   "metadata": {},
   "outputs": [],
   "source": [
    "def equations_scalar_inflation_BI(t, y,M4,mu,n):\n",
    "\n",
    "    def V(phi):\n",
    "        return(V_brane(phi,M4,mu,n))\n",
    "\n",
    "    phi, phi_dot = y\n",
    "\n",
    "        # Friedmann equation :\n",
    "    H = 1/M_pl*np.sqrt( (1/3) * (0.5 * phi_dot**2 + V(phi)) )\n",
    "    \n",
    "    dV = dV_brane(phi,M4,mu,n)  \n",
    "    \n",
    "    # Klein-Gordon equation\n",
    "    phi_dot_dot = -3 * H * phi_dot - dV \n",
    "    \n",
    "    return [phi_dot, phi_dot_dot]\n"
   ]
  },
  {
   "cell_type": "code",
   "execution_count": 6,
   "metadata": {},
   "outputs": [],
   "source": [
    "def equations3_scalar_inflation_BI(t, y,M4,mu,n):\n",
    "\n",
    "    def V(phi):\n",
    "        return(V_brane(phi,M4,mu,n))\n",
    "\n",
    "    phi, phi_dot, a = y\n",
    "\n",
    "        # Friedmann equation :\n",
    "    H = 1/M_pl*np.sqrt( (1/3) * (0.5 * phi_dot**2 + V(phi)) )\n",
    "    \n",
    "    dV = dV_brane(phi,M4,mu,n)  \n",
    "    \n",
    "    # Klein-Gordon equation\n",
    "    phi_dot_dot = -3 * H * phi_dot - dV \n",
    "    \n",
    "    a_dot = a*H\n",
    "\n",
    "    return [phi_dot, phi_dot_dot, a_dot]\n"
   ]
  },
  {
   "attachments": {},
   "cell_type": "markdown",
   "metadata": {},
   "source": [
    "Friedmann and Klein-Gordon equations with a Shifted potential (decreasing and >0)"
   ]
  },
  {
   "cell_type": "code",
   "execution_count": 7,
   "metadata": {},
   "outputs": [],
   "source": [
    "def equations_scalar_inflation_shifted_BI(t, y,phi_star,M4,mu,n):\n",
    "\n",
    "    def V(phi):\n",
    "        return(V_brane_shift(phi,phi_star,M4,mu,n))\n",
    "\n",
    "    phi, phi_dot, a = y\n",
    "\n",
    "        # Friedmann equation :\n",
    "    H = 1/M_pl*np.sqrt( (1/3) * (0.5 * phi_dot**2 + V(phi)) )\n",
    "    \n",
    "    dV = dV_brane_shift(phi,phi_star,M4,mu,n)  \n",
    "    \n",
    "    # Klein-Gordon equation\n",
    "    phi_dot_dot = -3 * H * phi_dot - dV \n",
    "    \n",
    "    a_dot = a*H\n",
    "\n",
    "    return [phi_dot, phi_dot_dot, a_dot]\n"
   ]
  },
  {
   "attachments": {},
   "cell_type": "markdown",
   "metadata": {},
   "source": [
    "Calculation of $\\phi_{end}$  (condition : $\\epsilon_V = 1$)"
   ]
  },
  {
   "cell_type": "code",
   "execution_count": 8,
   "metadata": {},
   "outputs": [],
   "source": [
    "def calculate_phi_end(M4,mu,n):\n",
    "    \n",
    "    a=-np.sqrt(0.5)*n*pow(mu,n)\n",
    "    b=pow(mu,4)\n",
    "\n",
    "    roots = np.roots([1,0,0,0,b,a])\n",
    "    positive_real_roots = [root for root in roots if np.isreal(root) and root > 0]\n",
    "\n",
    "    if len(positive_real_roots) > 0:\n",
    "        return positive_real_roots[0].real \n",
    "    else:\n",
    "        print(\"No positive real root found.\")\n",
    "        return None"
   ]
  },
  {
   "attachments": {},
   "cell_type": "markdown",
   "metadata": {},
   "source": [
    "Calculate  $\\phi_{start}$ in a bad way, but just for test"
   ]
  },
  {
   "cell_type": "code",
   "execution_count": 9,
   "metadata": {},
   "outputs": [],
   "source": [
    "## précision nécessaire pour pouvoir atteindre phi tel que  V(phi) proche de M4   (on utilise cette précision dans la fonction calculate phi start)\n",
    "## Attention, si et seulement si   M_pl = 1\n",
    "def precision_mu(mu):\n",
    "    return(pow(10,(-2+4*np.log10(mu/M_pl))))\n",
    "\n",
    "#Calcule phi tel que V(phi) proche de M4 ... la précision recquise est expliquée après  (en fait elle dépend de M4 et donc de mu  (car M4/mu4 = 16/27))\n",
    "def calculate_phi_start_BI(M4,mu,n,precision):\n",
    "    return(mu*pow(M4/precision,1/n))"
   ]
  },
  {
   "attachments": {},
   "cell_type": "markdown",
   "metadata": {},
   "source": [
    "Initial condition $\\frac{d\\phi}{dt} \\big ( t=t_* \\big ) = ... = $ slow roll approx $=$"
   ]
  },
  {
   "cell_type": "code",
   "execution_count": 10,
   "metadata": {},
   "outputs": [],
   "source": [
    "def phi_dot_star_BI(phi_star,M4,mu,n):\n",
    "    factor = -sqrt(3)*M_pl\n",
    "    return(factor*dV_brane(phi_star,M4,mu,n)/sqrt(V_brane(phi_star,M4,mu,n)))"
   ]
  },
  {
   "cell_type": "code",
   "execution_count": 11,
   "metadata": {},
   "outputs": [],
   "source": [
    "def phi_dot_star_shifted_BI(phi_star,M4,mu,n):\n",
    "    factor = -sqrt(3)*M_pl\n",
    "    return(factor*dV_brane(phi_star,M4,mu,n)/sqrt(V_brane(phi_star,M4,mu,n)))"
   ]
  },
  {
   "attachments": {},
   "cell_type": "markdown",
   "metadata": {},
   "source": [
    "Résolution ED en prenant shifted potential:\n",
    "\n",
    "- on donne une valeur de $\\phi_*$, on intègre l'ED pour trouver $\\phi$ et $a$\n",
    "- on calcule la valeur d' $e$ -folds associée\n",
    "- on recommence l'opération jusqu'à avoir $60 e$ -folds"
   ]
  },
  {
   "cell_type": "code",
   "execution_count": null,
   "metadata": {},
   "outputs": [],
   "source": []
  },
  {
   "attachments": {},
   "cell_type": "markdown",
   "metadata": {},
   "source": [
    "Résolution ED"
   ]
  },
  {
   "cell_type": "code",
   "execution_count": 12,
   "metadata": {},
   "outputs": [],
   "source": [
    "def resolution_scalar_inflation_BI(phi_star,M4,mu,n):\n",
    "    phi_dot_star = phi_dot_star_BI(phi_star,M4,mu,n)\n",
    "\n",
    "\n",
    "    y0 = [phi_star,phi_dot_star]\n",
    "\n",
    "    t_span = (0,1)\n",
    "\n",
    "    def equations(t,y):\n",
    "        return(equations_scalar_inflation_BI(t,y,M4,mu,n))\n",
    "\n",
    "    solution = solve_ivp(equations,t_span,y0,method='RK45')\n",
    "\n",
    "    t = solution.t\n",
    "    phi = solution.y[0]\n",
    "    phi_dot = solution.y[1]\n",
    "\n",
    "    return(t,phi,phi_dot)\n"
   ]
  },
  {
   "attachments": {},
   "cell_type": "markdown",
   "metadata": {},
   "source": [
    "Idem, mais avec $\\phi,\\dot{\\phi}, a$"
   ]
  },
  {
   "cell_type": "code",
   "execution_count": 13,
   "metadata": {},
   "outputs": [],
   "source": [
    "def resolution3_scalar_inflation_BI(phi_star,M4,mu,n):\n",
    "    phi_dot_star = phi_dot_star_BI(phi_star,M4,mu,n)\n",
    "    a_star = 1\n",
    "\n",
    "    y0 = [phi_star,phi_dot_star,a_star]\n",
    "\n",
    "    t_span = (0,1)  #combien?\n",
    "\n",
    "    def equations3(t,y):\n",
    "        return(equations3_scalar_inflation_BI(t,y,M4,mu,n))\n",
    "\n",
    "    solution = solve_ivp(equations3,t_span,y0,method='RK45')\n",
    "\n",
    "    t = solution.t\n",
    "    phi = solution.y[0]\n",
    "    phi_dot = solution.y[1]\n",
    "    a = solution.y[0]\n",
    "\n",
    "    return(t,phi,phi_dot,a)\n"
   ]
  },
  {
   "attachments": {},
   "cell_type": "markdown",
   "metadata": {},
   "source": [
    "Résolution ED et plot"
   ]
  },
  {
   "cell_type": "code",
   "execution_count": 14,
   "metadata": {},
   "outputs": [],
   "source": [
    "def couleur(i,N):\n",
    "    myColor = plt.get_cmap(\"Dark2\")\n",
    "    return(myColor((i+1)/N))"
   ]
  },
  {
   "cell_type": "code",
   "execution_count": 22,
   "metadata": {},
   "outputs": [],
   "source": [
    "def resolution_BI_plot(phi_star,M4,mu,n,c,c2):\n",
    "    t,phi,phi_dot = resolution_scalar_inflation_BI(phi_star,M4,mu,n)\n",
    "    t2,phi2,phi_dot2,a2 = resolution3_scalar_inflation_BI(phi_star,M4,mu,n)\n",
    "\n",
    "    fig = plt.figure(figsize=(10,7))\n",
    "    ax1 = plt.subplot(2,2,1)\n",
    "    ax2 = plt.subplot(2,2,2)\n",
    "    ax3 = plt.subplot(2,2,3)\n",
    "    ax4 = plt.subplot(2,2,4)\n",
    "\n",
    "    V = V_brane(phi,M4,mu,n)\n",
    "    V2 = V_brane(phi2,M4,mu,n)\n",
    "    \n",
    "    dV = dV_brane(phi,M4,mu,n)\n",
    "\n",
    "\n",
    "    ax1.plot(t,phi,color=c,label=\"2\")\n",
    "    ax1.set_ylabel(r'$\\phi(t)$')\n",
    "    ax1.set_xlabel(r'$t$')\n",
    "\n",
    "    ax2.plot(t,phi_dot,color=c,label=\"2\")\n",
    "    ax2.set_ylabel(r'$\\frac{d\\phi}{dt}$')\n",
    "    ax2.set_xlabel(r'$t$')\n",
    "\n",
    "    ax3.plot(phi,V,color=c,label=\"2\")\n",
    "    ax3.set_ylabel(r'$V(\\phi)$')\n",
    "    ax3.set_xlabel(r'$\\phi$')\n",
    "\n",
    "    print(\"temps\",t)\n",
    "    ax1.legend()\n",
    "    ax2.legend()\n",
    "    ax3.legend()\n",
    "    ax4.legend()\n",
    "\n",
    "    plt.show()\n",
    "\n",
    "    fig = plt.figure(figsize=(10,7))\n",
    "    ax1 = plt.subplot(2,2,1)\n",
    "    ax2 = plt.subplot(2,2,2)\n",
    "    ax3 = plt.subplot(2,2,3)\n",
    "    ax4 = plt.subplot(2,2,4)\n",
    "    ax1.plot(t2,phi2,color=c2,label=\"3\")\n",
    "    ax1.set_ylabel(r'$\\phi(t)$')\n",
    "    ax1.set_xlabel(r'$t$')\n",
    "\n",
    "    ax2.plot(t2,phi_dot2,color=c2,label=\"3\")\n",
    "    ax2.set_ylabel(r'$\\frac{d\\phi}{dt}$')\n",
    "    ax2.set_xlabel(r'$t$')\n",
    "\n",
    "    ax3.plot(phi,V,color=c2,label=\"3\")\n",
    "    ax3.set_ylabel(r'$V(\\phi)$')\n",
    "    ax3.set_xlabel(r'$\\phi$')\n",
    "\n",
    "    ax4.plot(t2,a2,color=c2,label=\"3\")\n",
    "    ax4.set_ylabel(r'$a(t)$')\n",
    "    ax4.set_xlabel(r'$t$')\n",
    "\n",
    "    print(\"temps 2\",t2)\n",
    "    ax1.legend()\n",
    "    ax2.legend()\n",
    "    ax3.legend()\n",
    "    ax4.legend()\n",
    "\n",
    "    plt.show()\n",
    "    "
   ]
  },
  {
   "cell_type": "code",
   "execution_count": 29,
   "metadata": {},
   "outputs": [
    {
     "name": "stdout",
     "output_type": "stream",
     "text": [
      "4146038282.6402826\n",
      "2.441614860380852e-96\n",
      "\n"
     ]
    },
    {
     "name": "stderr",
     "output_type": "stream",
     "text": [
      "/tmp/ipykernel_318/536833619.py:8: RuntimeWarning: overflow encountered in power\n",
      "  return(M4/(1+np.power(mu/phi,n)))\n",
      "/tmp/ipykernel_318/1183339483.py:3: RuntimeWarning: divide by zero encountered in double_scalars\n",
      "  return(factor*dV_brane(phi_star,M4,mu,n)/sqrt(V_brane(phi_star,M4,mu,n)))\n"
     ]
    }
   ],
   "source": [
    "def essai_resolution_BI_plot():\n",
    "\n",
    "    n=4\n",
    "    liste_mu = M_pl*np.logspace(0,0,1)\n",
    "    liste_M4=4*np.pi*np.pi*np.power(liste_mu,4)*16/27\n",
    "    \n",
    "    liste_eta = [ precision_mu(mu) for mu in liste_mu ]\n",
    "\n",
    "    \n",
    "    NN=len(liste_mu)\n",
    "    for i in range(NN):\n",
    "        mu = liste_mu[i]\n",
    "        M4=liste_M4[i]\n",
    "        eta=liste_eta[i]\n",
    "        phi_star  = calculate_phi_start_BI(M4,mu,n,eta)\n",
    "\n",
    "        print(phi_star)\n",
    "        phi_star = M_pl*pow(10,20)\n",
    "        print(phi_star)\n",
    "        print(\"\")\n",
    "        resolution_BI_plot(phi_star,M4,mu,n,\"b\",\"r\")\n",
    "\n",
    "\n",
    "essai_resolution_BI_plot()"
   ]
  },
  {
   "attachments": {},
   "cell_type": "markdown",
   "metadata": {},
   "source": [
    "Cacul de $\\Delta N = \\int_{a_{end}}^{a_*} dlna = \\int_{\\phi_{end}}^{\\phi_*} \\frac{H(\\phi)}{\\dot{\\phi}} d\\phi$"
   ]
  },
  {
   "cell_type": "code",
   "execution_count": 17,
   "metadata": {},
   "outputs": [],
   "source": [
    "from scipy import integrate\n",
    "\n",
    "\n",
    "\n",
    "def calcule_N(phi1,phi2,M4,mu,n):\n",
    "    def f(phi):\n",
    "        return()\n",
    "    N = integrate.romberg(f,phi1,phi2)\n",
    "    return(N)"
   ]
  },
  {
   "cell_type": "code",
   "execution_count": 18,
   "metadata": {},
   "outputs": [],
   "source": [
    "def resolution_and_calculate_DN_BI(phi_star,M4,mu,n):\n",
    "    t,phi,phi_dot = resolution_scalar_inflation_BI(phi_star,M4,mu,n)\n",
    "\n",
    "    \n",
    "\n",
    "    DN=0\n",
    "    DN = 1\n"
   ]
  },
  {
   "cell_type": "code",
   "execution_count": null,
   "metadata": {},
   "outputs": [],
   "source": []
  }
 ],
 "metadata": {
  "kernelspec": {
   "display_name": "Python 3",
   "language": "python",
   "name": "python3"
  },
  "language_info": {
   "codemirror_mode": {
    "name": "ipython",
    "version": 3
   },
   "file_extension": ".py",
   "mimetype": "text/x-python",
   "name": "python",
   "nbconvert_exporter": "python",
   "pygments_lexer": "ipython3",
   "version": "3.10.6"
  },
  "orig_nbformat": 4
 },
 "nbformat": 4,
 "nbformat_minor": 2
}
