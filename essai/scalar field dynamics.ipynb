{
 "cells": [
  {
   "cell_type": "code",
   "execution_count": 109,
   "metadata": {},
   "outputs": [],
   "source": [
    "import numpy as np\n",
    "from matplotlib import pyplot as plt\n",
    "from scipy.integrate import solve_ivp\n",
    "\n",
    "from math import*"
   ]
  },
  {
   "attachments": {},
   "cell_type": "markdown",
   "metadata": {},
   "source": [
    "Potential"
   ]
  },
  {
   "cell_type": "code",
   "execution_count": 110,
   "metadata": {},
   "outputs": [],
   "source": [
    "def V_harmonic(phi,m2):\n",
    "    return(0.5*m2*phi*phi)\n",
    "\n",
    "def dV_harmonic(phi,m2):\n",
    "    return(m2*phi)\n",
    "\n",
    "def ddV_harmonic(phi,m2):\n",
    "    return(m2)"
   ]
  },
  {
   "cell_type": "code",
   "execution_count": 111,
   "metadata": {},
   "outputs": [],
   "source": [
    "from math import pi\n",
    "csteGrav = 6.6743015e-11\n",
    "M_pl = 1/np.sqrt(8*pi*csteGrav)\n",
    "# Units #Internally, the code uses almost everywhere units of Mpc to some power, excepted in the inflation module, where many quantities are in natural units (wrt the true Planck mass).\n",
    "\n",
    "\n",
    "def V_brane(phi,M4,mu,n):\n",
    "    return(M4/(1+np.power(mu/phi,n)))\n",
    "\n",
    "def V_brane_shift(phi,phi0,M4,mu,n):\n",
    "    return(V_brane(phi0-phi,M4,mu,n))\n",
    "\n",
    "def dV_brane(phi,M4,mu,n):\n",
    "    factor = M4*n*np.power(mu,n)\n",
    "    denom = np.power(phi,n)+np.power(mu,n)\n",
    "    return(factor*np.power(phi,n-1)/np.power(denom,2))\n",
    "\n",
    "def dV_brane_shift(phi,phi0,M4,mu,n):\n",
    "    return(-dV_brane(phi0-phi,M4,mu,n))\n",
    "\n",
    "def ddV_brane(phi,M4,mu,n):\n",
    "    factor = M4*n*pow(mu,n)\n",
    "    factor2 = (n-1)*np.power(mu,n)-(n+1)*np.power(phi,n)\n",
    "    denom = np.power(mu,n)+np.power(phi,n)\n",
    "    return(factor*factor2/np.power(denom,3))\n",
    "\n",
    "def ddV_brane_shift(phi,phi0,M4,mu,n):\n",
    "    return(ddV_brane(phi0-phi,M4,mu,n))"
   ]
  },
  {
   "cell_type": "code",
   "execution_count": 112,
   "metadata": {},
   "outputs": [],
   "source": [
    "def epsilon1_true(phi,M4,mu,n):\n",
    "    factor = 0.5*pow(M_pl,2)\n",
    "    return(factor*np.power(dV_brane(phi,M4,mu,n)/V_brane(phi,M4,mu,n),2)  )\n",
    "\n",
    "def epsilon1_true_shift(phi,phi0,M4,mu,n):\n",
    "    return(epsilon1_true(phi0-phi,M4,mu,n))"
   ]
  },
  {
   "attachments": {},
   "cell_type": "markdown",
   "metadata": {},
   "source": [
    "Friedmann Equation and Klein-Gordon equation"
   ]
  },
  {
   "cell_type": "code",
   "execution_count": 113,
   "metadata": {},
   "outputs": [],
   "source": [
    "def equations_scalar_inflation_BI(t, y,M4,mu,n):\n",
    "\n",
    "    def V(phi):\n",
    "        return(V_brane(phi,M4,mu,n))\n",
    "\n",
    "    phi, phi_dot = y\n",
    "\n",
    "        # Friedmann equation :\n",
    "    H = 1/M_pl*np.sqrt( (1/3) * (0.5 * phi_dot**2 + V(phi)) )\n",
    "    \n",
    "    dV = dV_brane(phi,M4,mu,n)  \n",
    "    \n",
    "    # Klein-Gordon equation\n",
    "    phi_dot_dot = -3 * H * phi_dot - dV \n",
    "    \n",
    "    return [phi_dot, phi_dot_dot]\n"
   ]
  },
  {
   "cell_type": "code",
   "execution_count": 114,
   "metadata": {},
   "outputs": [],
   "source": [
    "def equations3_scalar_inflation_BI(t, y,M4,mu,n):\n",
    "\n",
    "    def V(phi):\n",
    "        return(V_brane(phi,M4,mu,n))\n",
    "\n",
    "    phi, phi_dot, a = y\n",
    "\n",
    "        # Friedmann equation :\n",
    "    H = 1/M_pl*np.sqrt( (1/3) * (0.5 * phi_dot**2 + V(phi)) )\n",
    "    \n",
    "    dV = dV_brane(phi,M4,mu,n)  \n",
    "    \n",
    "    # Klein-Gordon equation\n",
    "    phi_dot_dot = -3 * H * phi_dot - dV \n",
    "    \n",
    "    a_dot = a*H\n",
    "\n",
    "    return [phi_dot, phi_dot_dot, a_dot]\n"
   ]
  },
  {
   "attachments": {},
   "cell_type": "markdown",
   "metadata": {},
   "source": [
    "Friedmann and Klein-Gordon equations with a Shifted potential (decreasing and >0)"
   ]
  },
  {
   "cell_type": "code",
   "execution_count": 115,
   "metadata": {},
   "outputs": [],
   "source": [
    "def equations_scalar_inflation_shifted_BI(t, y,phi_star,M4,mu,n):\n",
    "\n",
    "    def V(phi):\n",
    "        return(V_brane_shift(phi,phi_star,M4,mu,n))\n",
    "\n",
    "    phi, phi_dot, a = y\n",
    "\n",
    "        # Friedmann equation :\n",
    "    H = 1/M_pl*np.sqrt( (1/3) * (0.5 * phi_dot**2 + V(phi)) )\n",
    "    \n",
    "    dV = dV_brane_shift(phi,phi_star,M4,mu,n)  \n",
    "    \n",
    "    # Klein-Gordon equation\n",
    "    phi_dot_dot = -3 * H * phi_dot - dV \n",
    "    \n",
    "    a_dot = a*H\n",
    "\n",
    "    return [phi_dot, phi_dot_dot, a_dot]\n"
   ]
  },
  {
   "attachments": {},
   "cell_type": "markdown",
   "metadata": {},
   "source": [
    "Calculation of $\\phi_{end}$  (condition : $\\epsilon_V = 1$)"
   ]
  },
  {
   "cell_type": "code",
   "execution_count": 116,
   "metadata": {},
   "outputs": [],
   "source": [
    "def calculate_phi_end(M4,mu,n):\n",
    "    \n",
    "    a=-np.sqrt(0.5)*n*pow(mu,n)\n",
    "    b=pow(mu,4)\n",
    "\n",
    "    roots = np.roots([1,0,0,0,b,a])\n",
    "    positive_real_roots = [root for root in roots if np.isreal(root) and root > 0]\n",
    "\n",
    "    if len(positive_real_roots) > 0:\n",
    "        return positive_real_roots[0].real \n",
    "    else:\n",
    "        print(\"No positive real root found.\")\n",
    "        return None"
   ]
  },
  {
   "attachments": {},
   "cell_type": "markdown",
   "metadata": {},
   "source": [
    "Calculate  $\\phi_{start}$ in a bad way, but just for test"
   ]
  },
  {
   "cell_type": "code",
   "execution_count": 117,
   "metadata": {},
   "outputs": [],
   "source": [
    "## précision nécessaire pour pouvoir atteindre phi tel que  V(phi) proche de M4   (on utilise cette précision dans la fonction calculate phi start)\n",
    "## Attention, si et seulement si   M_pl = 1\n",
    "def precision_mu(mu):\n",
    "    return(pow(10,(-2+4*np.log10(mu/M_pl))))\n",
    "\n",
    "#Calcule phi tel que V(phi) proche de M4 ... la précision recquise est expliquée après  (en fait elle dépend de M4 et donc de mu  (car M4/mu4 = 16/27))\n",
    "def calculate_phi_start_BI(M4,mu,n,precision):\n",
    "    return(mu*pow(M4/precision,1/n))"
   ]
  },
  {
   "cell_type": "code",
   "execution_count": 118,
   "metadata": {},
   "outputs": [],
   "source": [
    "def calculate_phi_end_BI(M4,mu,n,precision):\n",
    "    N0=100000\n",
    "    phi_deb = calculate_phi_start_BI(M4,mu,n,precision)\n",
    "    list_phi = np.linspace(1e-50,phi_deb,N0)\n",
    "\n",
    "    V = V_brane(list_phi,M4,mu,n)\n",
    "    E1 = epsilon1_true(list_phi,M4,mu,n)\n",
    " \n",
    "    i_gauche = 0\n",
    "    i_droite = N0-1\n",
    "\n",
    "    i_mid = (i_gauche+i_droite)//2\n",
    "    \n",
    "    while (i_droite-i_gauche)>1:\n",
    "        if E1[i_mid]>1:\n",
    "            i_gauche=i_mid\n",
    "        else:\n",
    "            i_droite=i_mid\n",
    "        \n",
    "        i_mid = (i_gauche+i_droite)//2\n",
    "       \n",
    "    return(list_phi[i_mid+1])"
   ]
  },
  {
   "attachments": {},
   "cell_type": "markdown",
   "metadata": {},
   "source": [
    "Initial condition $\\frac{d\\phi}{dt} \\big ( t=t_* \\big ) = ... = $ slow roll approx $=$"
   ]
  },
  {
   "cell_type": "code",
   "execution_count": 119,
   "metadata": {},
   "outputs": [],
   "source": [
    "def phi_dot_star_BI(phi_star,M4,mu,n):\n",
    "    factor = -sqrt(3)*M_pl\n",
    "    return(factor*dV_brane(phi_star,M4,mu,n)/sqrt(V_brane(phi_star,M4,mu,n)))"
   ]
  },
  {
   "cell_type": "code",
   "execution_count": 120,
   "metadata": {},
   "outputs": [],
   "source": [
    "def phi_dot_star_shifted_BI(phi_star,M4,mu,n):\n",
    "    factor = -sqrt(3)*M_pl\n",
    "    return(factor*dV_brane(phi_star,M4,mu,n)/sqrt(V_brane(phi_star,M4,mu,n)))"
   ]
  },
  {
   "attachments": {},
   "cell_type": "markdown",
   "metadata": {},
   "source": [
    "Résolution ED en prenant shifted potential:\n",
    "\n",
    "- on donne une valeur de $\\phi_*$, on intègre l'ED pour trouver $\\phi$ et $a$\n",
    "- on calcule la valeur d' $e$ -folds associée\n",
    "- on recommence l'opération jusqu'à avoir $60 e$ -folds"
   ]
  },
  {
   "cell_type": "code",
   "execution_count": null,
   "metadata": {},
   "outputs": [],
   "source": []
  },
  {
   "attachments": {},
   "cell_type": "markdown",
   "metadata": {},
   "source": [
    "Résolution ED"
   ]
  },
  {
   "cell_type": "code",
   "execution_count": 121,
   "metadata": {},
   "outputs": [],
   "source": [
    "def resolution_scalar_inflation_BI(phi_star,M4,mu,n):\n",
    "    phi_dot_star = phi_dot_star_BI(phi_star,M4,mu,n)\n",
    "\n",
    "\n",
    "    y0 = [phi_star,phi_dot_star]\n",
    "    print(\"conditions initiales\",phi_star,phi_dot_star)\n",
    "    t_span = (0,1)\n",
    "\n",
    "    def equations(t,y):\n",
    "        return(equations_scalar_inflation_BI(t,y,M4,mu,n))\n",
    "\n",
    "    solution = solve_ivp(equations,t_span,y0,method='RK45')\n",
    "\n",
    "    t = solution.t\n",
    "    phi = solution.y[0]\n",
    "    phi_dot = solution.y[1]\n",
    "\n",
    "    return(t,phi,phi_dot)\n"
   ]
  },
  {
   "attachments": {},
   "cell_type": "markdown",
   "metadata": {},
   "source": [
    "Idem, mais avec $\\phi,\\dot{\\phi}, a$"
   ]
  },
  {
   "cell_type": "code",
   "execution_count": 137,
   "metadata": {},
   "outputs": [],
   "source": [
    "def resolution3_scalar_inflation_BI(phi_star,M4,mu,n):\n",
    "    phi_dot_star = phi_dot_star_BI(phi_star,M4,mu,n)\n",
    "    a_star = 1\n",
    "\n",
    "    y0 = [phi_star,phi_dot_star,a_star]\n",
    "\n",
    "    print(\"conditions initiales\",phi_star,phi_dot_star,a_star)\n",
    "    \n",
    "    t_span = (0,10)  #combien?\n",
    "\n",
    "    def equations3(t,y):\n",
    "        return(equations3_scalar_inflation_BI(t,y,M4,mu,n))\n",
    "\n",
    "    solution = solve_ivp(equations3,t_span,y0,method='RK45')\n",
    "\n",
    "    t = solution.t\n",
    "    phi = solution.y[0]\n",
    "    phi_dot = solution.y[1]\n",
    "    a = solution.y[0]\n",
    "\n",
    "    a_dot = np.gradient(a,t)\n",
    "\n",
    "    return(t,phi,phi_dot,a,a_dot)\n"
   ]
  },
  {
   "attachments": {},
   "cell_type": "markdown",
   "metadata": {},
   "source": [
    "Résolution ED et plot"
   ]
  },
  {
   "cell_type": "code",
   "execution_count": 123,
   "metadata": {},
   "outputs": [],
   "source": [
    "def couleur(i,N):\n",
    "    myColor = plt.get_cmap(\"Dark2\")\n",
    "    return(myColor((i+1)/N))"
   ]
  },
  {
   "cell_type": "code",
   "execution_count": 124,
   "metadata": {},
   "outputs": [],
   "source": [
    "def resolution_BI_plot(phi_star,M4,mu,n,c,c2):\n",
    "    t,phi,phi_dot = resolution_scalar_inflation_BI(phi_star,M4,mu,n)\n",
    "    t2,phi2,phi_dot2,a2,a_dot2 = resolution3_scalar_inflation_BI(phi_star,M4,mu,n)\n",
    "\n",
    "    fig = plt.figure(figsize=(13,10))\n",
    "    ax1 = plt.subplot(2,2,1)\n",
    "    ax2 = plt.subplot(2,2,2)\n",
    "    ax3 = plt.subplot(2,2,3)\n",
    "    ax4 = plt.subplot(2,2,4)\n",
    "\n",
    "    V = V_brane(phi,M4,mu,n)\n",
    "    V2 = V_brane(phi2,M4,mu,n)\n",
    "    \n",
    "    dV = dV_brane(phi,M4,mu,n)\n",
    "\n",
    "\n",
    "    ax1.plot(t,phi,color=c,label=\"2\")\n",
    "    ax1.set_ylabel(r'$\\phi(t)$')\n",
    "    ax1.set_xlabel(r'$t$')\n",
    "    ax1.ticklabel_format(style='sci', axis='y', scilimits=(0,0))\n",
    "\n",
    "\n",
    "    ax2.plot(t,phi_dot,color=c,label=\"2\")\n",
    "    ax2.set_ylabel(r'$\\frac{d\\phi}{dt}$')\n",
    "    ax2.set_xlabel(r'$t$')\n",
    "\n",
    "    ax3.plot(phi,V,color=c,label=\"2\")\n",
    "    ax3.set_ylabel(r'$V(\\phi)$')\n",
    "    ax3.set_xlabel(r'$\\phi$')\n",
    "\n",
    "    print(\"temps\",t)\n",
    "    ax1.legend()\n",
    "    ax2.legend()\n",
    "    ax3.legend()\n",
    "    ax4.legend()\n",
    "\n",
    "    \n",
    "    plt.tight_layout()\n",
    "    plt.show()\n",
    "\n",
    "    fig = plt.figure(figsize=(10,7))\n",
    "    ax1 = plt.subplot(2,2,1)\n",
    "    ax2 = plt.subplot(2,2,2)\n",
    "    ax3 = plt.subplot(2,2,3)\n",
    "    ax4 = plt.subplot(2,2,4)\n",
    "\n",
    "    ax1.plot(t2,phi2,color=c2,label=\"3\")\n",
    "    ax1.set_ylabel(r'$\\phi(t)$')\n",
    "    ax1.set_xlabel(r'$t$')\n",
    "    ax1.ticklabel_format(style='sci', axis='y', scilimits=(0,0))\n",
    "\n",
    "    ax2.plot(t2,phi_dot2,color=c2,label=\"3\")\n",
    "    ax2.set_ylabel(r'$\\frac{d\\phi}{dt}$')\n",
    "    ax2.set_xlabel(r'$t$')\n",
    "\n",
    "    ax3.plot(phi,V,color=c2,label=\"3\")\n",
    "    ax3.set_ylabel(r'$V(\\phi)$')\n",
    "    ax3.set_xlabel(r'$\\phi$')\n",
    "\n",
    "    ax4.plot(t2,a2,color=c2,label=\"3\")\n",
    "    ax4.set_ylabel(r'$a(t)$')\n",
    "    ax4.set_xlabel(r'$t$')\n",
    "\n",
    "    print(\"temps 2\",t2)\n",
    "    ax1.legend()\n",
    "    ax2.legend()\n",
    "    ax3.legend()\n",
    "    ax4.legend()\n",
    "\n",
    "    plt.tight_layout()\n",
    "    plt.show()\n",
    "    "
   ]
  },
  {
   "cell_type": "code",
   "execution_count": 125,
   "metadata": {},
   "outputs": [],
   "source": [
    "def essai_resolution_BI_plot():\n",
    "\n",
    "    n=4\n",
    "    liste_mu = M_pl*np.logspace(0,0,1)\n",
    "    liste_M4=4*np.pi*np.pi*np.power(liste_mu,4)*16/27\n",
    "    \n",
    "    liste_eta = [ precision_mu(mu) for mu in liste_mu ]\n",
    "\n",
    "    \n",
    "    NN=len(liste_mu)\n",
    "    for i in range(NN):\n",
    "        mu = liste_mu[i]\n",
    "        M4=liste_M4[i]\n",
    "        eta=liste_eta[i]\n",
    "        phi_star  = calculate_phi_start_BI(M4,mu,n,eta)\n",
    "\n",
    "        print(phi_star)\n",
    "        phi_star = M_pl*pow(10,1)\n",
    "        print(phi_star)\n",
    "        print(\"\")\n",
    "        resolution_BI_plot(phi_star,M4,mu,n,\"b\",\"r\")\n",
    "\n",
    "\n",
    "# essai_resolution_BI_plot()"
   ]
  },
  {
   "attachments": {},
   "cell_type": "markdown",
   "metadata": {},
   "source": [
    "Cacul de $\\Delta N = \\int_{a_{end}}^{a_*} dlna = \\int_{\\phi_{end}}^{\\phi_*} \\frac{H(\\phi)}{\\dot{\\phi}} d\\phi$"
   ]
  },
  {
   "cell_type": "code",
   "execution_count": 126,
   "metadata": {},
   "outputs": [],
   "source": [
    "# from scipy import integrate\n",
    "\n",
    "def calculate_N(phi1,phi2,t,phi,phi_dot,a,a_dot):\n",
    "    integrande = [ a_dot[i]/(a[i]*phi_dot[i])  for i in range(len(t))]\n",
    "    index_phi1 = np.searchsorted(phi,phi1,side=\"right\")\n",
    "    index_phi2 = np.searchsorted(phi,phi2,side=\"right\")\n",
    "\n",
    "    phi_sub = np.array(phi[index_phi1:index_phi2][::-1])\n",
    "    integrande_sub = np.array([integrande[i] for i in range(index_phi1, index_phi2)][::-1])\n",
    "\n",
    "    N = np.trapz(phi_sub,integrande_sub)\n",
    "    return(N)"
   ]
  },
  {
   "cell_type": "code",
   "execution_count": 153,
   "metadata": {},
   "outputs": [],
   "source": [
    "def resolution_and_calculate_DN_BI(phi_star,M4,mu,n,precision):\n",
    "    t_,phi_,phi_dot_,a_,a_dot_ = resolution3_scalar_inflation_BI(phi_star,M4,mu,n)\n",
    "    t = t_[1:-1]\n",
    "    phi = phi_[1:-1]\n",
    "    phi_dot = phi_dot_[1:-1]\n",
    "    a = a_[1:-1]\n",
    "    a_dot = a_dot_[1:-1]\n",
    "\n",
    "    V = V_brane(phi,M4,mu,n)\n",
    "    dV = dV_brane(phi,M4,mu,n)\n",
    "\n",
    "    phi_end = calculate_phi_end(M4,mu,n)\n",
    "    phi_endd = calculate_phi_end_BI(M4,mu,n,precision)\n",
    "\n",
    "    N = calculate_N(phi_star,phi_end,t,phi,phi_dot,a,a_dot)\n",
    "    N2 = calculate_N(phi_star,phi_endd,t,phi,phi_dot,a,a_dot)\n",
    "    print(\"phi_start\",phi_star)\n",
    "    print(\"phi_end roots\",phi_end)\n",
    "    print(\"phi_end\",phi_endd)\n",
    "    print(\"e-folds\",N)\n",
    "    print(\"e-folds bis\",N2)\n",
    "\n",
    "    fig = plt.figure(figsize=(17,10))\n",
    "    ax1 = plt.subplot(2,3,1)\n",
    "    ax2 = plt.subplot(2,3,2)\n",
    "    ax3 = plt.subplot(2,3,3)\n",
    "    ax4 = plt.subplot(2,3,4)\n",
    "    ax5 = plt.subplot(2,3,5)\n",
    "    ax6 = plt.subplot(2,3,6)\n",
    "\n",
    "    ax1.plot(t,phi,color=\"b\")\n",
    "    ax1.set_ylabel(r'$\\phi(t)$')\n",
    "    ax1.set_xlabel(r'$t$')\n",
    "\n",
    "    ax2.loglog(t,phi,color=\"b\")\n",
    "    ax2.set_ylabel(r'$\\phi(t)$')\n",
    "    ax2.set_xlabel(r'$t$')\n",
    "\n",
    "    ax3.plot(t,phi_dot,color=\"b\")\n",
    "    ax3.set_ylabel(r'$\\frac{d\\phi}{dt}$')\n",
    "    ax3.set_xlabel(r'$t$')\n",
    "\n",
    "    ax4.plot(phi,V/M4,color=\"b\")\n",
    "    ax4.set_ylabel(r'$V(\\phi)/M^4$')\n",
    "    ax4.set_xlabel(r'$\\phi$')\n",
    "\n",
    "    ax5.plot(phi,t,color=\"b\")\n",
    "    ax5.set_ylabel(r'$V$')\n",
    "    ax5.set_xlabel(r'$t$')\n",
    "\n",
    "    ax6.plot(t,a,color=\"b\")\n",
    "    ax6.set_ylabel(r'$a(t)$')\n",
    "    ax6.set_xlabel(r'$t$')\n",
    "    \n",
    "    plt.tight_layout()\n",
    "    plt.show()\n",
    "    "
   ]
  },
  {
   "cell_type": "code",
   "execution_count": 155,
   "metadata": {},
   "outputs": [
    {
     "name": "stdout",
     "output_type": "stream",
     "text": [
      "conditions initiales 10000 -7848356388.740642 1\n",
      "phi_start 10000\n",
      "phi_end roots 2.82842712474619\n",
      "phi_end 41460.79743437717\n",
      "e-folds 0.0\n",
      "e-folds bis 0.0\n"
     ]
    },
    {
     "data": {
      "image/png": "[encoded data removed]",
      "text/plain": [
       "<Figure size 1700x1000 with 6 Axes>"
      ]
     },
     "metadata": {},
     "output_type": "display_data"
    },
    {
     "name": "stdout",
     "output_type": "stream",
     "text": [
      "\n"
     ]
    }
   ],
   "source": [
    "def essai_resolution_and_calculate_DN():\n",
    "\n",
    "    n=4\n",
    "    liste_mu = M_pl*np.logspace(0,0,1)\n",
    "    liste_M4=4*np.pi*np.pi*np.power(liste_mu,4)*16/27\n",
    "    \n",
    "    liste_eta = [ precision_mu(mu) for mu in liste_mu ]\n",
    "\n",
    "    \n",
    "    NN=len(liste_mu)\n",
    "    for i in range(NN):\n",
    "        mu = liste_mu[i]\n",
    "        M4=liste_M4[i]\n",
    "        eta=liste_eta[i]\n",
    "        \n",
    "        \n",
    "        phi_star = 10000\n",
    "        resolution_and_calculate_DN_BI(phi_star,M4,mu,n,eta)\n",
    "        print(\"\")\n",
    "\n",
    "\n",
    "essai_resolution_and_calculate_DN()"
   ]
  },
  {
   "cell_type": "code",
   "execution_count": null,
   "metadata": {},
   "outputs": [],
   "source": []
  }
 ],
 "metadata": {
  "kernelspec": {
   "display_name": "Python 3",
   "language": "python",
   "name": "python3"
  },
  "language_info": {
   "codemirror_mode": {
    "name": "ipython",
    "version": 3
   },
   "file_extension": ".py",
   "mimetype": "text/x-python",
   "name": "python",
   "nbconvert_exporter": "python",
   "pygments_lexer": "ipython3",
   "version": "3.10.6"
  },
  "orig_nbformat": 4
 },
 "nbformat": 4,
 "nbformat_minor": 2
}
