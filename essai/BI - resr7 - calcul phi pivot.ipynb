{
 "cells": [
  {
   "cell_type": "code",
   "execution_count": null,
   "metadata": {},
   "outputs": [],
   "source": [
    "from classy import Class\n",
    "import numpy as np\n",
    "from matplotlib import pyplot as plt"
   ]
  },
  {
   "attachments": {},
   "cell_type": "markdown",
   "metadata": {},
   "source": [
    "Brane Inflation Potential and its derivatives "
   ]
  },
  {
   "cell_type": "code",
   "execution_count": null,
   "metadata": {},
   "outputs": [],
   "source": [
    "from math import pi\n",
    "csteGrav = 6.6743015e-11\n",
    "M_pl = 1/np.sqrt(8*pi*csteGrav)\n",
    "\n",
    "# M_pl = 1\n",
    "\n",
    "def V_brane(phi,M4,mu,n):\n",
    "    return(M4/(1+pow(mu/phi,n)))\n",
    "\n",
    "def V_shift(phi,phi0,M4,mu,n):\n",
    "    return(V_brane(phi0-phi,M4,mu,n))\n",
    "\n",
    "def dV_brane(phi,M4,mu,n):\n",
    "    factor = M4*n*pow(mu,n)\n",
    "    denom = pow(phi,n)+pow(mu,n)\n",
    "    return(factor*pow(phi,n-1)/pow(denom,2))\n",
    "\n",
    "def ddV_brane(phi,M4,mu,n):\n",
    "    factor = M4*n*pow(mu,n)\n",
    "    factor2 = (n-1)*pow(mu,n)-(n+1)*pow(phi,n)\n",
    "    denom = pow(mu,n)+pow(phi,n)\n",
    "    return(factor*factor2/pow(denom,3))\n"
   ]
  },
  {
   "attachments": {},
   "cell_type": "markdown",
   "metadata": {},
   "source": [
    "Slow-roll parameters"
   ]
  },
  {
   "cell_type": "code",
   "execution_count": null,
   "metadata": {},
   "outputs": [],
   "source": [
    "\n",
    "def epsilon1(phi,M4,mu,n):\n",
    "    x=phi/mu\n",
    "    factor=pow(n*M_pl/mu, 2)\n",
    "    return( 0.5*factor/pow(x*(pow(x,n)+1),2)  )\n",
    "\n",
    "def epsilon2(phi,M4,mu,n):\n",
    "    x=phi/mu\n",
    "    factor = 2*n*pow(M_pl/mu,2)\n",
    "    numerator = (n+1)*pow(x,n)+1\n",
    "    denominator = x*(pow(x,n)+1)\n",
    "    return( factor*numerator/pow(denominator,2) )\n",
    "\n",
    "def epsilon3(phi,M4,mu,n):\n",
    "    x=phi/mu\n",
    "    factor = n*pow(M_pl/mu,2)\n",
    "    numerator = 2 + (n-4)*(n+1)*pow(x,n)  + (n+1)*(n+2)*pow(x,2*n)\n",
    "    denominator = pow( x*(pow(x,n)+1) , 2)\n",
    "    denominator = denominator* ((n+1)*pow(x,n) + 1 )\n",
    "    return( factor * numerator / denominator)"
   ]
  },
  {
   "cell_type": "code",
   "execution_count": null,
   "metadata": {},
   "outputs": [],
   "source": [
    "def epsilon1_true(phi,M4,mu,n):\n",
    "    factor = 0.5*pow(M_pl,2)\n",
    "    return(factor*pow(dV_brane(phi,M4,mu,n)/V_brane(phi,M4,mu,n),2)  )\n",
    "\n",
    "def epsilon2_true(phi,M4,mu,n):\n",
    "    factor = 2*pow(M_pl,2)\n",
    "    quotient1 = ddV_brane(phi,M4,mu,n)/V_brane(phi,M4,mu,n)\n",
    "    quotient2 = dV_brane(phi,M4,mu,n)/V_brane(phi,M4,mu,n)\n",
    "    return(factor*(pow(quotient2,2) - quotient1))"
   ]
  },
  {
   "attachments": {},
   "cell_type": "markdown",
   "metadata": {},
   "source": [
    "Calculate $\\phi_{start}$"
   ]
  },
  {
   "cell_type": "code",
   "execution_count": null,
   "metadata": {},
   "outputs": [],
   "source": [
    "## précision nécessaire pour pouvoir atteindre phi tel que  V(phi) proche de M4   (on utilise cette précision dans la fonction calculate phi start)\n",
    "def precision_mu(mu,N):\n",
    "    return(pow(10,(3+N*(np.log10(mu/M_pl)+3))))\n",
    "    return(pow(10,-(49-N*(np.log10(mu/M_pl)+3))))"
   ]
  },
  {
   "cell_type": "code",
   "execution_count": null,
   "metadata": {},
   "outputs": [],
   "source": [
    "#Calcule phi tel que V(phi) proche de M4 ... la précision recquise est expliquée après  (en fait elle dépend de M4 et donc de mu  (car M4/mu4 = 16/27))\n",
    "def calculate_phi_start_BI(M4,mu,n,precision):\n",
    "    return(mu*pow(M4/precision,1/n))"
   ]
  },
  {
   "attachments": {},
   "cell_type": "markdown",
   "metadata": {},
   "source": [
    "Calculate $\\phi_{end}$"
   ]
  },
  {
   "cell_type": "code",
   "execution_count": null,
   "metadata": {},
   "outputs": [],
   "source": [
    "def calculate_phi_end_BI(M4,mu,n,precision):\n",
    "    N0=100000\n",
    "    phi_deb = calculate_phi_start_BI(M4,mu,n,precision)\n",
    "    list_phi = np.linspace(1e-50,phi_deb,N0)\n",
    "\n",
    "    V = V_brane(list_phi,M4,mu,n)\n",
    "    E1 = epsilon1_true(list_phi,M4,mu,n)\n",
    " \n",
    "    i_gauche = 0\n",
    "    i_droite = N0-1\n",
    "\n",
    "    i_mid = (i_gauche+i_droite)//2\n",
    "    # print(i_gauche,i_mid,i_droite)\n",
    "    # print('epsilon',E1[i_mid])\n",
    "    while (i_droite-i_gauche)>1:\n",
    "        if E1[i_mid]>1:\n",
    "            i_gauche=i_mid\n",
    "        else:\n",
    "            i_droite=i_mid\n",
    "        \n",
    "        i_mid = (i_gauche+i_droite)//2\n",
    "        # print(i_gauche,i_mid,i_droite)   \n",
    "        # print('epsilon',E1[i_mid])\n",
    "\n",
    "    # print(i_gauche,i_mid,i_droite)\n",
    "    # print('epsilon',E1[i_mid])\n",
    "    # print('epsilon',E1[i_mid+1])\n",
    "    return(list_phi[i_mid+1])"
   ]
  },
  {
   "attachments": {},
   "cell_type": "markdown",
   "metadata": {},
   "source": [
    "Calcul de $\\phi_{pivot}$"
   ]
  },
  {
   "cell_type": "code",
   "execution_count": null,
   "metadata": {},
   "outputs": [],
   "source": []
  }
 ],
 "metadata": {
  "language_info": {
   "name": "python"
  },
  "orig_nbformat": 4
 },
 "nbformat": 4,
 "nbformat_minor": 2
}
